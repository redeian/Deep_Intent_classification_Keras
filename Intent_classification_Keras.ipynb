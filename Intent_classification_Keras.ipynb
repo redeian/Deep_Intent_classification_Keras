{
  "nbformat": 4,
  "nbformat_minor": 0,
  "metadata": {
    "colab": {
      "name": "Intent_classification_Keras",
      "version": "0.3.2",
      "provenance": [],
      "collapsed_sections": [],
      "include_colab_link": true
    },
    "kernelspec": {
      "name": "python3",
      "display_name": "Python 3"
    },
    "accelerator": "TPU"
  },
  "cells": [
    {
      "cell_type": "markdown",
      "metadata": {
        "id": "view-in-github",
        "colab_type": "text"
      },
      "source": [
        "<a href=\"https://colab.research.google.com/github/redeian/Deep_Intent_classification_Keras/blob/master/Intent_classification_Keras.ipynb\" target=\"_parent\"><img src=\"https://colab.research.google.com/assets/colab-badge.svg\" alt=\"Open In Colab\"/></a>"
      ]
    },
    {
      "metadata": {
        "id": "a_WypuUXi92e",
        "colab_type": "code",
        "outputId": "16c8fa33-5212-41e5-bd9e-c0385b251a23",
        "colab": {
          "base_uri": "https://localhost:8080/",
          "height": 34
        }
      },
      "cell_type": "code",
      "source": [
        "import numpy as np\n",
        "import pandas as pd\n",
        "from nltk.corpus import stopwords\n",
        "from nltk.tokenize import word_tokenize\n",
        "from nltk.stem.lancaster import LancasterStemmer\n",
        "import nltk\n",
        "import re\n",
        "from sklearn.preprocessing import OneHotEncoder\n",
        "import matplotlib.pyplot as plt\n",
        "from keras.preprocessing.text import Tokenizer\n",
        "from keras.preprocessing.sequence import pad_sequences\n",
        "from keras.utils import to_categorical\n",
        "from keras.models import Sequential, load_model\n",
        "from keras.layers import Dense, LSTM, Bidirectional, Embedding, Dropout\n",
        "from keras.callbacks import ModelCheckpoint\n"
      ],
      "execution_count": 1,
      "outputs": [
        {
          "output_type": "stream",
          "text": [
            "Using TensorFlow backend.\n"
          ],
          "name": "stderr"
        }
      ]
    },
    {
      "metadata": {
        "id": "LE6wywJrN2ih",
        "colab_type": "code",
        "colab": {}
      },
      "cell_type": "code",
      "source": [
        "def load_dataset(filename):\n",
        "  df = pd.read_csv(filename, encoding = \"latin1\", names = [\"Sentence\", \"Intent\"])\n",
        "  print(df.head())\n",
        "  intent = df[\"Intent\"]\n",
        "  unique_intent = list(set(intent))\n",
        "  sentences = list(df[\"Sentence\"])\n",
        "  \n",
        "  return (intent, unique_intent, sentences)\n",
        "  \n"
      ],
      "execution_count": 0,
      "outputs": []
    },
    {
      "metadata": {
        "id": "0Gdm5XCAy7C3",
        "colab_type": "code",
        "colab": {}
      },
      "cell_type": "code",
      "source": [
        "# from google.colab import drive\n",
        "# drive.mount('/content/gdrive')"
      ],
      "execution_count": 0,
      "outputs": []
    },
    {
      "metadata": {
        "id": "vr91cbq-y9Aj",
        "colab_type": "code",
        "colab": {}
      },
      "cell_type": "code",
      "source": [
        "file_path = '/content/Dataset.csv'\n"
      ],
      "execution_count": 0,
      "outputs": []
    },
    {
      "metadata": {
        "id": "tF0FQA7gjOCX",
        "colab_type": "code",
        "outputId": "86fe7dfb-1419-47ab-d776-10dea2bf4f4a",
        "colab": {
          "base_uri": "https://localhost:8080/",
          "height": 122
        }
      },
      "cell_type": "code",
      "source": [
        "intent, unique_intent, sentences = load_dataset(file_path)"
      ],
      "execution_count": 5,
      "outputs": [
        {
          "output_type": "stream",
          "text": [
            "                Sentence          Intent\n",
            "0       Need help pleese  commonQ.assist\n",
            "1              Need help  commonQ.assist\n",
            "2       I need some info  commonQ.assist\n",
            "3      Will you help me?  commonQ.assist\n",
            "4  What else can you do?  commonQ.assist\n"
          ],
          "name": "stdout"
        }
      ]
    },
    {
      "metadata": {
        "id": "O8LLUZlokg0S",
        "colab_type": "code",
        "outputId": "64f92704-d96a-4027-df71-5672800ef22b",
        "colab": {
          "base_uri": "https://localhost:8080/",
          "height": 34
        }
      },
      "cell_type": "code",
      "source": [
        "print(sentences[:5])"
      ],
      "execution_count": 6,
      "outputs": [
        {
          "output_type": "stream",
          "text": [
            "['Need help pleese', 'Need help', 'I need some info', 'Will you help me?', 'What else can you do?']\n"
          ],
          "name": "stdout"
        }
      ]
    },
    {
      "metadata": {
        "id": "MhrziINPGHbW",
        "colab_type": "code",
        "outputId": "3a542198-500d-435e-c189-960255b7826d",
        "colab": {
          "base_uri": "https://localhost:8080/",
          "height": 105
        }
      },
      "cell_type": "code",
      "source": [
        "nltk.download(\"stopwords\")\n",
        "nltk.download(\"punkt\")"
      ],
      "execution_count": 7,
      "outputs": [
        {
          "output_type": "stream",
          "text": [
            "[nltk_data] Downloading package stopwords to /root/nltk_data...\n",
            "[nltk_data]   Package stopwords is already up-to-date!\n",
            "[nltk_data] Downloading package punkt to /root/nltk_data...\n",
            "[nltk_data]   Package punkt is already up-to-date!\n"
          ],
          "name": "stdout"
        },
        {
          "output_type": "execute_result",
          "data": {
            "text/plain": [
              "True"
            ]
          },
          "metadata": {
            "tags": []
          },
          "execution_count": 7
        }
      ]
    },
    {
      "metadata": {
        "id": "OmNLu2YSXePb",
        "colab_type": "code",
        "colab": {}
      },
      "cell_type": "code",
      "source": [
        "#define stemmer\n",
        "stemmer = LancasterStemmer()"
      ],
      "execution_count": 0,
      "outputs": []
    },
    {
      "metadata": {
        "id": "j-7q3iG5PKYI",
        "colab_type": "code",
        "colab": {}
      },
      "cell_type": "code",
      "source": [
        "def cleaning(sentences):\n",
        "  words = []\n",
        "  for s in sentences:\n",
        "    clean = re.sub(r'[^ a-z A-Z 0-9]', \" \", s)\n",
        "    w = word_tokenize(clean)\n",
        "    #stemming\n",
        "    words.append([i.lower() for i in w])\n",
        "    \n",
        "  return words  "
      ],
      "execution_count": 0,
      "outputs": []
    },
    {
      "metadata": {
        "id": "p1j2GJgDG6qj",
        "colab_type": "code",
        "outputId": "01206f2c-3250-4d1f-bdd1-f8f50aec0242",
        "colab": {
          "base_uri": "https://localhost:8080/",
          "height": 52
        }
      },
      "cell_type": "code",
      "source": [
        "cleaned_words = cleaning(sentences)\n",
        "print(len(cleaned_words))\n",
        "print(cleaned_words[:2])  \n",
        "  \n"
      ],
      "execution_count": 10,
      "outputs": [
        {
          "output_type": "stream",
          "text": [
            "1113\n",
            "[['need', 'help', 'pleese'], ['need', 'help']]\n"
          ],
          "name": "stdout"
        }
      ]
    },
    {
      "metadata": {
        "id": "SJCQ_YhBJW7t",
        "colab_type": "code",
        "colab": {}
      },
      "cell_type": "code",
      "source": [
        "def create_tokenizer(words, filters = '!\"#$%&()*+,-./:;<=>?@[\\]^_`{|}~'):\n",
        "  token = Tokenizer(filters = filters)\n",
        "  token.fit_on_texts(words)\n",
        "  return token"
      ],
      "execution_count": 0,
      "outputs": []
    },
    {
      "metadata": {
        "id": "QJhdIJC5Q3Q6",
        "colab_type": "code",
        "colab": {}
      },
      "cell_type": "code",
      "source": [
        "def max_length(words):\n",
        "  return(len(max(words, key = len)))\n",
        "  "
      ],
      "execution_count": 0,
      "outputs": []
    },
    {
      "metadata": {
        "id": "JWjxPGsZZJNX",
        "colab_type": "code",
        "outputId": "e5c9f176-70f5-4a53-82f1-a13e6b1e3bd0",
        "colab": {
          "base_uri": "https://localhost:8080/",
          "height": 34
        }
      },
      "cell_type": "code",
      "source": [
        "word_tokenizer = create_tokenizer(cleaned_words)\n",
        "vocab_size = len(word_tokenizer.word_index) + 1\n",
        "max_length = max_length(cleaned_words)\n",
        "\n",
        "print(\"Vocab Size = %d and Maximum length = %d\" % (vocab_size, max_length))"
      ],
      "execution_count": 13,
      "outputs": [
        {
          "output_type": "stream",
          "text": [
            "Vocab Size = 492 and Maximum length = 28\n"
          ],
          "name": "stdout"
        }
      ]
    },
    {
      "metadata": {
        "id": "D0TXu2xsR8jq",
        "colab_type": "code",
        "colab": {}
      },
      "cell_type": "code",
      "source": [
        "def encoding_doc(token, words):\n",
        "  return(token.texts_to_sequences(words))"
      ],
      "execution_count": 0,
      "outputs": []
    },
    {
      "metadata": {
        "id": "dE92Hk1Va--H",
        "colab_type": "code",
        "colab": {}
      },
      "cell_type": "code",
      "source": [
        "encoded_doc = encoding_doc(word_tokenizer, cleaned_words)"
      ],
      "execution_count": 0,
      "outputs": []
    },
    {
      "metadata": {
        "id": "fyOzLEboc4LZ",
        "colab_type": "code",
        "colab": {}
      },
      "cell_type": "code",
      "source": [
        "def padding_doc(encoded_doc, max_length):\n",
        "  return(pad_sequences(encoded_doc, maxlen = max_length, padding = \"post\"))"
      ],
      "execution_count": 0,
      "outputs": []
    },
    {
      "metadata": {
        "id": "WdejoJrlc-tc",
        "colab_type": "code",
        "colab": {}
      },
      "cell_type": "code",
      "source": [
        "padded_doc = padding_doc(encoded_doc, max_length)"
      ],
      "execution_count": 0,
      "outputs": []
    },
    {
      "metadata": {
        "id": "gDgTCS2KdI2p",
        "colab_type": "code",
        "outputId": "feebcaa2-2746-4685-dccc-a47e67e5606f",
        "colab": {
          "base_uri": "https://localhost:8080/",
          "height": 281
        }
      },
      "cell_type": "code",
      "source": [
        "padded_doc[:5]"
      ],
      "execution_count": 18,
      "outputs": [
        {
          "output_type": "execute_result",
          "data": {
            "text/plain": [
              "array([[ 25,  77, 332,   0,   0,   0,   0,   0,   0,   0,   0,   0,   0,\n",
              "          0,   0,   0,   0,   0,   0,   0,   0,   0,   0,   0,   0,   0,\n",
              "          0,   0],\n",
              "       [ 25,  77,   0,   0,   0,   0,   0,   0,   0,   0,   0,   0,   0,\n",
              "          0,   0,   0,   0,   0,   0,   0,   0,   0,   0,   0,   0,   0,\n",
              "          0,   0],\n",
              "       [  1,  25, 198, 181,   0,   0,   0,   0,   0,   0,   0,   0,   0,\n",
              "          0,   0,   0,   0,   0,   0,   0,   0,   0,   0,   0,   0,   0,\n",
              "          0,   0],\n",
              "       [ 51,  10,  77,  16,   0,   0,   0,   0,   0,   0,   0,   0,   0,\n",
              "          0,   0,   0,   0,   0,   0,   0,   0,   0,   0,   0,   0,   0,\n",
              "          0,   0],\n",
              "       [  8, 268,   4,  10,  30,   0,   0,   0,   0,   0,   0,   0,   0,\n",
              "          0,   0,   0,   0,   0,   0,   0,   0,   0,   0,   0,   0,   0,\n",
              "          0,   0]], dtype=int32)"
            ]
          },
          "metadata": {
            "tags": []
          },
          "execution_count": 18
        }
      ]
    },
    {
      "metadata": {
        "id": "3eaSIDi0dNf1",
        "colab_type": "code",
        "outputId": "dc716ee3-f36e-4621-a8a4-9eb189ff2c59",
        "colab": {
          "base_uri": "https://localhost:8080/",
          "height": 34
        }
      },
      "cell_type": "code",
      "source": [
        "print(\"Shape of padded docs = \",padded_doc.shape)"
      ],
      "execution_count": 19,
      "outputs": [
        {
          "output_type": "stream",
          "text": [
            "Shape of padded docs =  (1113, 28)\n"
          ],
          "name": "stdout"
        }
      ]
    },
    {
      "metadata": {
        "id": "X0rXzenSpgFR",
        "colab_type": "code",
        "colab": {}
      },
      "cell_type": "code",
      "source": [
        "#tokenizer with filter changed\n",
        "output_tokenizer = create_tokenizer(unique_intent, filters = '!\"#$%&()*+,-/:;<=>?@[\\]^`{|}~')\n"
      ],
      "execution_count": 0,
      "outputs": []
    },
    {
      "metadata": {
        "id": "yNHQtkszskxr",
        "colab_type": "code",
        "outputId": "50c5b070-6ae5-41cc-fa87-764215c85cf7",
        "colab": {
          "base_uri": "https://localhost:8080/",
          "height": 386
        }
      },
      "cell_type": "code",
      "source": [
        "output_tokenizer.word_index"
      ],
      "execution_count": 21,
      "outputs": [
        {
          "output_type": "execute_result",
          "data": {
            "text/plain": [
              "{'commonq.assist': 1,\n",
              " 'commonq.bot': 16,\n",
              " 'commonq.how': 12,\n",
              " 'commonq.just_details': 15,\n",
              " 'commonq.name': 11,\n",
              " 'commonq.not_giving': 9,\n",
              " 'commonq.query': 10,\n",
              " 'commonq.wait': 13,\n",
              " 'contact.contact': 8,\n",
              " 'faq.aadhaar_missing': 4,\n",
              " 'faq.address_proof': 3,\n",
              " 'faq.application_process': 18,\n",
              " 'faq.apply_register': 5,\n",
              " 'faq.approval_time': 7,\n",
              " 'faq.bad_service': 2,\n",
              " 'faq.banking_option_missing': 21,\n",
              " 'faq.biz_category_missing': 14,\n",
              " 'faq.biz_new': 17,\n",
              " 'faq.biz_simpler': 20,\n",
              " 'faq.borrow_limit': 19,\n",
              " 'faq.borrow_use': 6}"
            ]
          },
          "metadata": {
            "tags": []
          },
          "execution_count": 21
        }
      ]
    },
    {
      "metadata": {
        "id": "7OOx9qdBto1-",
        "colab_type": "code",
        "colab": {}
      },
      "cell_type": "code",
      "source": [
        "encoded_output = encoding_doc(output_tokenizer, intent)"
      ],
      "execution_count": 0,
      "outputs": []
    },
    {
      "metadata": {
        "id": "0_5Lv5PiyG-z",
        "colab_type": "code",
        "colab": {}
      },
      "cell_type": "code",
      "source": [
        "encoded_output = np.array(encoded_output).reshape(len(encoded_output), 1)"
      ],
      "execution_count": 0,
      "outputs": []
    },
    {
      "metadata": {
        "id": "dpM86WrVQlx5",
        "colab_type": "code",
        "outputId": "58366fca-32eb-445b-a766-ddf341a359f8",
        "colab": {
          "base_uri": "https://localhost:8080/",
          "height": 34
        }
      },
      "cell_type": "code",
      "source": [
        "encoded_output.shape"
      ],
      "execution_count": 24,
      "outputs": [
        {
          "output_type": "execute_result",
          "data": {
            "text/plain": [
              "(1113, 1)"
            ]
          },
          "metadata": {
            "tags": []
          },
          "execution_count": 24
        }
      ]
    },
    {
      "metadata": {
        "id": "rD3QN-RPzfet",
        "colab_type": "code",
        "colab": {}
      },
      "cell_type": "code",
      "source": [
        "def one_hot(encode):\n",
        "  o = OneHotEncoder(sparse = False)\n",
        "  return(o.fit_transform(encode))"
      ],
      "execution_count": 0,
      "outputs": []
    },
    {
      "metadata": {
        "id": "Z6wP_Xed7RNR",
        "colab_type": "code",
        "outputId": "ce5ef160-ba94-4502-ab4e-f2ed34840d79",
        "colab": {
          "base_uri": "https://localhost:8080/",
          "height": 107
        }
      },
      "cell_type": "code",
      "source": [
        "output_one_hot = one_hot(encoded_output)"
      ],
      "execution_count": 26,
      "outputs": [
        {
          "output_type": "stream",
          "text": [
            "/usr/local/lib/python3.6/dist-packages/sklearn/preprocessing/_encoders.py:371: FutureWarning: The handling of integer data will change in version 0.22. Currently, the categories are determined based on the range [0, max(values)], while in the future they will be determined based on the unique values.\n",
            "If you want the future behaviour and silence this warning, you can specify \"categories='auto'\".\n",
            "In case you used a LabelEncoder before this OneHotEncoder to convert the categories to integers, then you can now use the OneHotEncoder directly.\n",
            "  warnings.warn(msg, FutureWarning)\n"
          ],
          "name": "stderr"
        }
      ]
    },
    {
      "metadata": {
        "id": "A6HVslLTHgOM",
        "colab_type": "code",
        "outputId": "6229cb7e-a3fb-4b71-94e3-67d3eeedc622",
        "colab": {
          "base_uri": "https://localhost:8080/",
          "height": 34
        }
      },
      "cell_type": "code",
      "source": [
        "output_one_hot.shape"
      ],
      "execution_count": 27,
      "outputs": [
        {
          "output_type": "execute_result",
          "data": {
            "text/plain": [
              "(1113, 21)"
            ]
          },
          "metadata": {
            "tags": []
          },
          "execution_count": 27
        }
      ]
    },
    {
      "metadata": {
        "id": "EqABUESD7xi9",
        "colab_type": "code",
        "colab": {}
      },
      "cell_type": "code",
      "source": [
        "from sklearn.model_selection import train_test_split"
      ],
      "execution_count": 0,
      "outputs": []
    },
    {
      "metadata": {
        "id": "h8P4HTz6A4E-",
        "colab_type": "code",
        "colab": {}
      },
      "cell_type": "code",
      "source": [
        "train_X, val_X, train_Y, val_Y = train_test_split(padded_doc, output_one_hot, shuffle = True, test_size = 0.2)\n"
      ],
      "execution_count": 0,
      "outputs": []
    },
    {
      "metadata": {
        "id": "7E0uhC2OCtTx",
        "colab_type": "code",
        "outputId": "f8010264-2fb6-429c-adf2-a581890b8498",
        "colab": {
          "base_uri": "https://localhost:8080/",
          "height": 52
        }
      },
      "cell_type": "code",
      "source": [
        "print(\"Shape of train_X = %s and train_Y = %s\" % (train_X.shape, train_Y.shape))\n",
        "print(\"Shape of val_X = %s and val_Y = %s\" % (val_X.shape, val_Y.shape))"
      ],
      "execution_count": 30,
      "outputs": [
        {
          "output_type": "stream",
          "text": [
            "Shape of train_X = (890, 28) and train_Y = (890, 21)\n",
            "Shape of val_X = (223, 28) and val_Y = (223, 21)\n"
          ],
          "name": "stdout"
        }
      ]
    },
    {
      "metadata": {
        "id": "e5BU_x74DNEb",
        "colab_type": "code",
        "colab": {}
      },
      "cell_type": "code",
      "source": [
        "def create_model(vocab_size, max_length):\n",
        "  model = Sequential()\n",
        "  model.add(Embedding(vocab_size, 128, input_length = max_length, trainable = False))\n",
        "  model.add(Bidirectional(LSTM(128)))\n",
        "#   model.add(LSTM(128))\n",
        "  model.add(Dense(32, activation = \"relu\"))\n",
        "  model.add(Dropout(0.5))\n",
        "  model.add(Dense(21, activation = \"softmax\"))\n",
        "  \n",
        "  return model"
      ],
      "execution_count": 0,
      "outputs": []
    },
    {
      "metadata": {
        "id": "f-NvE0P7MFCe",
        "colab_type": "code",
        "outputId": "c3148ef0-d47d-415a-8887-1fdc83bca961",
        "colab": {
          "base_uri": "https://localhost:8080/",
          "height": 442
        }
      },
      "cell_type": "code",
      "source": [
        "model = create_model(vocab_size, max_length)\n",
        "\n",
        "model.compile(loss = \"categorical_crossentropy\", optimizer = \"adam\", metrics = [\"accuracy\"])\n",
        "model.summary()"
      ],
      "execution_count": 32,
      "outputs": [
        {
          "output_type": "stream",
          "text": [
            "WARNING:tensorflow:From /usr/local/lib/python3.6/dist-packages/tensorflow/python/framework/op_def_library.py:263: colocate_with (from tensorflow.python.framework.ops) is deprecated and will be removed in a future version.\n",
            "Instructions for updating:\n",
            "Colocations handled automatically by placer.\n",
            "WARNING:tensorflow:From /usr/local/lib/python3.6/dist-packages/keras/backend/tensorflow_backend.py:3445: calling dropout (from tensorflow.python.ops.nn_ops) with keep_prob is deprecated and will be removed in a future version.\n",
            "Instructions for updating:\n",
            "Please use `rate` instead of `keep_prob`. Rate should be set to `rate = 1 - keep_prob`.\n",
            "_________________________________________________________________\n",
            "Layer (type)                 Output Shape              Param #   \n",
            "=================================================================\n",
            "embedding_1 (Embedding)      (None, 28, 128)           62976     \n",
            "_________________________________________________________________\n",
            "bidirectional_1 (Bidirection (None, 256)               263168    \n",
            "_________________________________________________________________\n",
            "dense_1 (Dense)              (None, 32)                8224      \n",
            "_________________________________________________________________\n",
            "dropout_1 (Dropout)          (None, 32)                0         \n",
            "_________________________________________________________________\n",
            "dense_2 (Dense)              (None, 21)                693       \n",
            "=================================================================\n",
            "Total params: 335,061\n",
            "Trainable params: 272,085\n",
            "Non-trainable params: 62,976\n",
            "_________________________________________________________________\n"
          ],
          "name": "stdout"
        }
      ]
    },
    {
      "metadata": {
        "id": "_r-dxm2sMQ-d",
        "colab_type": "code",
        "outputId": "5c5741fb-0896-40fd-b96f-1e1dc05f6ab4",
        "colab": {
          "base_uri": "https://localhost:8080/",
          "height": 7147
        }
      },
      "cell_type": "code",
      "source": [
        "filename = 'model.h5'\n",
        "checkpoint = ModelCheckpoint(filename, monitor='val_loss', verbose=1, save_best_only=True, mode='min')\n",
        "\n",
        "hist = model.fit(train_X, train_Y, epochs = 100, batch_size = 32, validation_data = (val_X, val_Y), callbacks = [checkpoint])"
      ],
      "execution_count": 33,
      "outputs": [
        {
          "output_type": "stream",
          "text": [
            "WARNING:tensorflow:From /usr/local/lib/python3.6/dist-packages/tensorflow/python/ops/math_ops.py:3066: to_int32 (from tensorflow.python.ops.math_ops) is deprecated and will be removed in a future version.\n",
            "Instructions for updating:\n",
            "Use tf.cast instead.\n",
            "Train on 890 samples, validate on 223 samples\n",
            "Epoch 1/100\n",
            "890/890 [==============================] - 4s 5ms/step - loss: 2.9160 - acc: 0.1157 - val_loss: 2.8026 - val_acc: 0.2108\n",
            "\n",
            "Epoch 00001: val_loss improved from inf to 2.80257, saving model to model.h5\n",
            "Epoch 2/100\n",
            "890/890 [==============================] - 3s 3ms/step - loss: 2.8147 - acc: 0.1348 - val_loss: 2.7294 - val_acc: 0.2108\n",
            "\n",
            "Epoch 00002: val_loss improved from 2.80257 to 2.72941, saving model to model.h5\n",
            "Epoch 3/100\n",
            "890/890 [==============================] - 3s 3ms/step - loss: 2.7647 - acc: 0.1629 - val_loss: 2.5958 - val_acc: 0.1973\n",
            "\n",
            "Epoch 00003: val_loss improved from 2.72941 to 2.59578, saving model to model.h5\n",
            "Epoch 4/100\n",
            "890/890 [==============================] - 3s 3ms/step - loss: 2.6566 - acc: 0.1708 - val_loss: 2.6275 - val_acc: 0.2511\n",
            "\n",
            "Epoch 00004: val_loss did not improve from 2.59578\n",
            "Epoch 5/100\n",
            "890/890 [==============================] - 3s 3ms/step - loss: 2.6282 - acc: 0.1831 - val_loss: 2.4801 - val_acc: 0.2466\n",
            "\n",
            "Epoch 00005: val_loss improved from 2.59578 to 2.48006, saving model to model.h5\n",
            "Epoch 6/100\n",
            "890/890 [==============================] - 3s 4ms/step - loss: 2.5180 - acc: 0.2034 - val_loss: 2.3738 - val_acc: 0.2332\n",
            "\n",
            "Epoch 00006: val_loss improved from 2.48006 to 2.37376, saving model to model.h5\n",
            "Epoch 7/100\n",
            "890/890 [==============================] - 3s 3ms/step - loss: 2.4329 - acc: 0.2247 - val_loss: 2.2279 - val_acc: 0.2915\n",
            "\n",
            "Epoch 00007: val_loss improved from 2.37376 to 2.22791, saving model to model.h5\n",
            "Epoch 8/100\n",
            "890/890 [==============================] - 3s 3ms/step - loss: 2.3448 - acc: 0.2876 - val_loss: 2.1811 - val_acc: 0.2960\n",
            "\n",
            "Epoch 00008: val_loss improved from 2.22791 to 2.18105, saving model to model.h5\n",
            "Epoch 9/100\n",
            "890/890 [==============================] - 3s 3ms/step - loss: 2.1823 - acc: 0.3292 - val_loss: 2.0224 - val_acc: 0.4036\n",
            "\n",
            "Epoch 00009: val_loss improved from 2.18105 to 2.02245, saving model to model.h5\n",
            "Epoch 10/100\n",
            "890/890 [==============================] - 3s 3ms/step - loss: 2.1206 - acc: 0.3371 - val_loss: 1.9973 - val_acc: 0.3543\n",
            "\n",
            "Epoch 00010: val_loss improved from 2.02245 to 1.99731, saving model to model.h5\n",
            "Epoch 11/100\n",
            "890/890 [==============================] - 3s 3ms/step - loss: 2.0755 - acc: 0.3494 - val_loss: 2.0023 - val_acc: 0.4529\n",
            "\n",
            "Epoch 00011: val_loss did not improve from 1.99731\n",
            "Epoch 12/100\n",
            "890/890 [==============================] - 3s 3ms/step - loss: 1.9765 - acc: 0.3854 - val_loss: 1.7784 - val_acc: 0.4709\n",
            "\n",
            "Epoch 00012: val_loss improved from 1.99731 to 1.77837, saving model to model.h5\n",
            "Epoch 13/100\n",
            "890/890 [==============================] - 3s 3ms/step - loss: 1.8372 - acc: 0.4124 - val_loss: 1.7485 - val_acc: 0.5112\n",
            "\n",
            "Epoch 00013: val_loss improved from 1.77837 to 1.74852, saving model to model.h5\n",
            "Epoch 14/100\n",
            "890/890 [==============================] - 3s 3ms/step - loss: 1.7388 - acc: 0.4584 - val_loss: 1.6123 - val_acc: 0.5381\n",
            "\n",
            "Epoch 00014: val_loss improved from 1.74852 to 1.61228, saving model to model.h5\n",
            "Epoch 15/100\n",
            "890/890 [==============================] - 3s 3ms/step - loss: 1.6852 - acc: 0.4865 - val_loss: 1.5275 - val_acc: 0.5336\n",
            "\n",
            "Epoch 00015: val_loss improved from 1.61228 to 1.52748, saving model to model.h5\n",
            "Epoch 16/100\n",
            "890/890 [==============================] - 3s 3ms/step - loss: 1.5835 - acc: 0.5090 - val_loss: 1.4575 - val_acc: 0.5650\n",
            "\n",
            "Epoch 00016: val_loss improved from 1.52748 to 1.45747, saving model to model.h5\n",
            "Epoch 17/100\n",
            "890/890 [==============================] - 3s 3ms/step - loss: 1.5653 - acc: 0.5124 - val_loss: 1.4444 - val_acc: 0.5830\n",
            "\n",
            "Epoch 00017: val_loss improved from 1.45747 to 1.44444, saving model to model.h5\n",
            "Epoch 18/100\n",
            "890/890 [==============================] - 3s 3ms/step - loss: 1.4446 - acc: 0.5551 - val_loss: 1.4011 - val_acc: 0.5785\n",
            "\n",
            "Epoch 00018: val_loss improved from 1.44444 to 1.40108, saving model to model.h5\n",
            "Epoch 19/100\n",
            "890/890 [==============================] - 3s 3ms/step - loss: 1.3869 - acc: 0.5742 - val_loss: 1.3467 - val_acc: 0.5964\n",
            "\n",
            "Epoch 00019: val_loss improved from 1.40108 to 1.34672, saving model to model.h5\n",
            "Epoch 20/100\n",
            "890/890 [==============================] - 3s 3ms/step - loss: 1.3587 - acc: 0.5551 - val_loss: 1.3165 - val_acc: 0.6099\n",
            "\n",
            "Epoch 00020: val_loss improved from 1.34672 to 1.31645, saving model to model.h5\n",
            "Epoch 21/100\n",
            "890/890 [==============================] - 3s 3ms/step - loss: 1.3114 - acc: 0.5865 - val_loss: 1.2885 - val_acc: 0.6188\n",
            "\n",
            "Epoch 00021: val_loss improved from 1.31645 to 1.28848, saving model to model.h5\n",
            "Epoch 22/100\n",
            "890/890 [==============================] - 3s 3ms/step - loss: 1.2550 - acc: 0.6157 - val_loss: 1.2477 - val_acc: 0.6457\n",
            "\n",
            "Epoch 00022: val_loss improved from 1.28848 to 1.24767, saving model to model.h5\n",
            "Epoch 23/100\n",
            "890/890 [==============================] - 3s 3ms/step - loss: 1.2565 - acc: 0.6067 - val_loss: 1.3075 - val_acc: 0.6323\n",
            "\n",
            "Epoch 00023: val_loss did not improve from 1.24767\n",
            "Epoch 24/100\n",
            "890/890 [==============================] - 3s 3ms/step - loss: 1.2727 - acc: 0.6191 - val_loss: 1.3436 - val_acc: 0.6323\n",
            "\n",
            "Epoch 00024: val_loss did not improve from 1.24767\n",
            "Epoch 25/100\n",
            "890/890 [==============================] - 3s 3ms/step - loss: 1.1336 - acc: 0.6360 - val_loss: 1.4256 - val_acc: 0.5785\n",
            "\n",
            "Epoch 00025: val_loss did not improve from 1.24767\n",
            "Epoch 26/100\n",
            "890/890 [==============================] - 3s 3ms/step - loss: 1.1367 - acc: 0.6292 - val_loss: 1.2221 - val_acc: 0.6637\n",
            "\n",
            "Epoch 00026: val_loss improved from 1.24767 to 1.22207, saving model to model.h5\n",
            "Epoch 27/100\n",
            "890/890 [==============================] - 3s 3ms/step - loss: 1.1110 - acc: 0.6562 - val_loss: 1.3527 - val_acc: 0.6233\n",
            "\n",
            "Epoch 00027: val_loss did not improve from 1.22207\n",
            "Epoch 28/100\n",
            "890/890 [==============================] - 3s 3ms/step - loss: 1.1201 - acc: 0.6539 - val_loss: 1.2420 - val_acc: 0.6457\n",
            "\n",
            "Epoch 00028: val_loss did not improve from 1.22207\n",
            "Epoch 29/100\n",
            "890/890 [==============================] - 3s 3ms/step - loss: 1.0713 - acc: 0.6640 - val_loss: 1.1763 - val_acc: 0.6771\n",
            "\n",
            "Epoch 00029: val_loss improved from 1.22207 to 1.17630, saving model to model.h5\n",
            "Epoch 30/100\n",
            "890/890 [==============================] - 3s 3ms/step - loss: 1.0815 - acc: 0.6539 - val_loss: 1.2207 - val_acc: 0.6592\n",
            "\n",
            "Epoch 00030: val_loss did not improve from 1.17630\n",
            "Epoch 31/100\n",
            "890/890 [==============================] - 3s 3ms/step - loss: 1.0513 - acc: 0.6618 - val_loss: 1.2917 - val_acc: 0.6413\n",
            "\n",
            "Epoch 00031: val_loss did not improve from 1.17630\n",
            "Epoch 32/100\n",
            "890/890 [==============================] - 3s 3ms/step - loss: 0.9773 - acc: 0.6910 - val_loss: 1.2703 - val_acc: 0.6592\n",
            "\n",
            "Epoch 00032: val_loss did not improve from 1.17630\n",
            "Epoch 33/100\n",
            "890/890 [==============================] - 3s 3ms/step - loss: 0.9770 - acc: 0.6921 - val_loss: 1.1218 - val_acc: 0.6771\n",
            "\n",
            "Epoch 00033: val_loss improved from 1.17630 to 1.12182, saving model to model.h5\n",
            "Epoch 34/100\n",
            "890/890 [==============================] - 3s 3ms/step - loss: 0.9399 - acc: 0.6944 - val_loss: 1.1321 - val_acc: 0.6906\n",
            "\n",
            "Epoch 00034: val_loss did not improve from 1.12182\n",
            "Epoch 35/100\n",
            "890/890 [==============================] - 3s 3ms/step - loss: 0.9061 - acc: 0.7180 - val_loss: 1.1436 - val_acc: 0.6951\n",
            "\n",
            "Epoch 00035: val_loss did not improve from 1.12182\n",
            "Epoch 36/100\n",
            "890/890 [==============================] - 3s 3ms/step - loss: 0.8926 - acc: 0.7202 - val_loss: 1.1338 - val_acc: 0.6906\n",
            "\n",
            "Epoch 00036: val_loss did not improve from 1.12182\n",
            "Epoch 37/100\n",
            "890/890 [==============================] - 3s 3ms/step - loss: 0.9299 - acc: 0.7202 - val_loss: 1.1613 - val_acc: 0.6906\n",
            "\n",
            "Epoch 00037: val_loss did not improve from 1.12182\n",
            "Epoch 38/100\n",
            "890/890 [==============================] - 3s 3ms/step - loss: 0.8756 - acc: 0.7101 - val_loss: 1.0835 - val_acc: 0.7130\n",
            "\n",
            "Epoch 00038: val_loss improved from 1.12182 to 1.08348, saving model to model.h5\n",
            "Epoch 39/100\n",
            "890/890 [==============================] - 3s 3ms/step - loss: 0.8108 - acc: 0.7449 - val_loss: 1.0829 - val_acc: 0.6996\n",
            "\n",
            "Epoch 00039: val_loss improved from 1.08348 to 1.08293, saving model to model.h5\n",
            "Epoch 40/100\n",
            "890/890 [==============================] - 3s 3ms/step - loss: 0.8272 - acc: 0.7427 - val_loss: 1.2014 - val_acc: 0.6906\n",
            "\n",
            "Epoch 00040: val_loss did not improve from 1.08293\n",
            "Epoch 41/100\n",
            "890/890 [==============================] - 3s 3ms/step - loss: 0.8470 - acc: 0.7202 - val_loss: 1.0937 - val_acc: 0.7130\n",
            "\n",
            "Epoch 00041: val_loss did not improve from 1.08293\n",
            "Epoch 42/100\n",
            "890/890 [==============================] - 3s 3ms/step - loss: 0.8123 - acc: 0.7326 - val_loss: 1.1447 - val_acc: 0.7040\n",
            "\n",
            "Epoch 00042: val_loss did not improve from 1.08293\n",
            "Epoch 43/100\n",
            "890/890 [==============================] - 3s 3ms/step - loss: 0.7980 - acc: 0.7393 - val_loss: 1.1239 - val_acc: 0.7085\n",
            "\n",
            "Epoch 00043: val_loss did not improve from 1.08293\n",
            "Epoch 44/100\n",
            "890/890 [==============================] - 3s 3ms/step - loss: 0.7981 - acc: 0.7528 - val_loss: 1.0620 - val_acc: 0.7354\n",
            "\n",
            "Epoch 00044: val_loss improved from 1.08293 to 1.06200, saving model to model.h5\n",
            "Epoch 45/100\n",
            "890/890 [==============================] - 3s 3ms/step - loss: 0.7524 - acc: 0.7494 - val_loss: 1.2120 - val_acc: 0.6861\n",
            "\n",
            "Epoch 00045: val_loss did not improve from 1.06200\n",
            "Epoch 46/100\n",
            "890/890 [==============================] - 3s 3ms/step - loss: 0.8066 - acc: 0.7416 - val_loss: 1.1822 - val_acc: 0.6996\n",
            "\n",
            "Epoch 00046: val_loss did not improve from 1.06200\n",
            "Epoch 47/100\n",
            "890/890 [==============================] - 3s 3ms/step - loss: 0.7584 - acc: 0.7506 - val_loss: 1.0948 - val_acc: 0.7085\n",
            "\n",
            "Epoch 00047: val_loss did not improve from 1.06200\n",
            "Epoch 48/100\n",
            "890/890 [==============================] - 3s 3ms/step - loss: 0.7011 - acc: 0.7652 - val_loss: 1.1012 - val_acc: 0.7354\n",
            "\n",
            "Epoch 00048: val_loss did not improve from 1.06200\n",
            "Epoch 49/100\n",
            "890/890 [==============================] - 3s 3ms/step - loss: 0.7460 - acc: 0.7551 - val_loss: 1.1406 - val_acc: 0.7085\n",
            "\n",
            "Epoch 00049: val_loss did not improve from 1.06200\n",
            "Epoch 50/100\n",
            "890/890 [==============================] - 3s 3ms/step - loss: 0.7705 - acc: 0.7551 - val_loss: 1.0316 - val_acc: 0.6996\n",
            "\n",
            "Epoch 00050: val_loss improved from 1.06200 to 1.03160, saving model to model.h5\n",
            "Epoch 51/100\n",
            "890/890 [==============================] - 3s 3ms/step - loss: 0.8387 - acc: 0.7348 - val_loss: 1.0145 - val_acc: 0.7085\n",
            "\n",
            "Epoch 00051: val_loss improved from 1.03160 to 1.01446, saving model to model.h5\n",
            "Epoch 52/100\n",
            "890/890 [==============================] - 3s 3ms/step - loss: 0.7935 - acc: 0.7517 - val_loss: 1.0510 - val_acc: 0.6996\n",
            "\n",
            "Epoch 00052: val_loss did not improve from 1.01446\n",
            "Epoch 53/100\n",
            "890/890 [==============================] - 3s 3ms/step - loss: 0.6995 - acc: 0.7809 - val_loss: 1.0439 - val_acc: 0.7040\n",
            "\n",
            "Epoch 00053: val_loss did not improve from 1.01446\n",
            "Epoch 54/100\n",
            "890/890 [==============================] - 3s 3ms/step - loss: 0.6853 - acc: 0.7742 - val_loss: 1.1776 - val_acc: 0.7085\n",
            "\n",
            "Epoch 00054: val_loss did not improve from 1.01446\n",
            "Epoch 55/100\n",
            "890/890 [==============================] - 3s 3ms/step - loss: 0.6542 - acc: 0.7944 - val_loss: 1.1783 - val_acc: 0.7175\n",
            "\n",
            "Epoch 00055: val_loss did not improve from 1.01446\n",
            "Epoch 56/100\n",
            "890/890 [==============================] - 3s 3ms/step - loss: 0.6619 - acc: 0.7888 - val_loss: 1.0706 - val_acc: 0.7309\n",
            "\n",
            "Epoch 00056: val_loss did not improve from 1.01446\n",
            "Epoch 57/100\n",
            "890/890 [==============================] - 3s 3ms/step - loss: 0.6144 - acc: 0.7899 - val_loss: 1.0699 - val_acc: 0.7309\n",
            "\n",
            "Epoch 00057: val_loss did not improve from 1.01446\n",
            "Epoch 58/100\n",
            "890/890 [==============================] - 3s 3ms/step - loss: 0.5946 - acc: 0.8090 - val_loss: 1.1003 - val_acc: 0.7175\n",
            "\n",
            "Epoch 00058: val_loss did not improve from 1.01446\n",
            "Epoch 59/100\n",
            "890/890 [==============================] - 3s 3ms/step - loss: 0.5958 - acc: 0.8169 - val_loss: 1.0827 - val_acc: 0.7130\n",
            "\n",
            "Epoch 00059: val_loss did not improve from 1.01446\n",
            "Epoch 60/100\n",
            "890/890 [==============================] - 3s 3ms/step - loss: 0.7078 - acc: 0.8011 - val_loss: 1.0790 - val_acc: 0.6951\n",
            "\n",
            "Epoch 00060: val_loss did not improve from 1.01446\n",
            "Epoch 61/100\n",
            "890/890 [==============================] - 3s 3ms/step - loss: 0.7518 - acc: 0.7843 - val_loss: 1.1364 - val_acc: 0.6861\n",
            "\n",
            "Epoch 00061: val_loss did not improve from 1.01446\n",
            "Epoch 62/100\n",
            "890/890 [==============================] - 3s 3ms/step - loss: 0.7133 - acc: 0.7685 - val_loss: 1.0213 - val_acc: 0.7130\n",
            "\n",
            "Epoch 00062: val_loss did not improve from 1.01446\n",
            "Epoch 63/100\n",
            "890/890 [==============================] - 3s 3ms/step - loss: 0.6161 - acc: 0.8146 - val_loss: 1.0687 - val_acc: 0.7085\n",
            "\n",
            "Epoch 00063: val_loss did not improve from 1.01446\n",
            "Epoch 64/100\n",
            "890/890 [==============================] - 3s 3ms/step - loss: 0.5857 - acc: 0.8022 - val_loss: 1.0807 - val_acc: 0.7220\n",
            "\n",
            "Epoch 00064: val_loss did not improve from 1.01446\n",
            "Epoch 65/100\n",
            "890/890 [==============================] - 3s 3ms/step - loss: 0.5935 - acc: 0.8112 - val_loss: 1.0243 - val_acc: 0.7309\n",
            "\n",
            "Epoch 00065: val_loss did not improve from 1.01446\n",
            "Epoch 66/100\n",
            "890/890 [==============================] - 3s 3ms/step - loss: 0.5407 - acc: 0.8281 - val_loss: 1.1188 - val_acc: 0.7220\n",
            "\n",
            "Epoch 00066: val_loss did not improve from 1.01446\n",
            "Epoch 67/100\n",
            "890/890 [==============================] - 3s 3ms/step - loss: 0.5575 - acc: 0.8169 - val_loss: 1.0656 - val_acc: 0.7489\n",
            "\n",
            "Epoch 00067: val_loss did not improve from 1.01446\n",
            "Epoch 68/100\n",
            "890/890 [==============================] - 3s 3ms/step - loss: 0.5867 - acc: 0.8101 - val_loss: 1.0986 - val_acc: 0.7578\n",
            "\n",
            "Epoch 00068: val_loss did not improve from 1.01446\n",
            "Epoch 69/100\n",
            "890/890 [==============================] - 3s 3ms/step - loss: 0.6000 - acc: 0.8034 - val_loss: 1.1519 - val_acc: 0.6951\n",
            "\n",
            "Epoch 00069: val_loss did not improve from 1.01446\n",
            "Epoch 70/100\n",
            "890/890 [==============================] - 3s 3ms/step - loss: 0.6027 - acc: 0.8101 - val_loss: 0.9981 - val_acc: 0.7175\n",
            "\n",
            "Epoch 00070: val_loss improved from 1.01446 to 0.99809, saving model to model.h5\n",
            "Epoch 71/100\n",
            "890/890 [==============================] - 3s 3ms/step - loss: 0.5521 - acc: 0.8124 - val_loss: 1.0300 - val_acc: 0.7175\n",
            "\n",
            "Epoch 00071: val_loss did not improve from 0.99809\n",
            "Epoch 72/100\n",
            "890/890 [==============================] - 3s 3ms/step - loss: 0.5223 - acc: 0.8360 - val_loss: 1.0114 - val_acc: 0.7399\n",
            "\n",
            "Epoch 00072: val_loss did not improve from 0.99809\n",
            "Epoch 73/100\n",
            "890/890 [==============================] - 3s 3ms/step - loss: 0.5241 - acc: 0.8292 - val_loss: 1.0285 - val_acc: 0.7399\n",
            "\n",
            "Epoch 00073: val_loss did not improve from 0.99809\n",
            "Epoch 74/100\n",
            "890/890 [==============================] - 3s 3ms/step - loss: 0.4913 - acc: 0.8315 - val_loss: 0.9148 - val_acc: 0.7354\n",
            "\n",
            "Epoch 00074: val_loss improved from 0.99809 to 0.91479, saving model to model.h5\n",
            "Epoch 75/100\n",
            "890/890 [==============================] - 3s 3ms/step - loss: 0.4867 - acc: 0.8348 - val_loss: 1.0116 - val_acc: 0.7265\n",
            "\n",
            "Epoch 00075: val_loss did not improve from 0.91479\n",
            "Epoch 76/100\n",
            "890/890 [==============================] - 3s 3ms/step - loss: 0.4676 - acc: 0.8494 - val_loss: 1.0017 - val_acc: 0.7444\n",
            "\n",
            "Epoch 00076: val_loss did not improve from 0.91479\n",
            "Epoch 77/100\n",
            "890/890 [==============================] - 3s 3ms/step - loss: 0.4732 - acc: 0.8348 - val_loss: 1.0856 - val_acc: 0.7354\n",
            "\n",
            "Epoch 00077: val_loss did not improve from 0.91479\n",
            "Epoch 78/100\n",
            "890/890 [==============================] - 3s 3ms/step - loss: 0.4685 - acc: 0.8393 - val_loss: 1.1373 - val_acc: 0.7578\n",
            "\n",
            "Epoch 00078: val_loss did not improve from 0.91479\n",
            "Epoch 79/100\n",
            "890/890 [==============================] - 3s 3ms/step - loss: 0.7594 - acc: 0.7787 - val_loss: 1.6140 - val_acc: 0.6188\n",
            "\n",
            "Epoch 00079: val_loss did not improve from 0.91479\n",
            "Epoch 80/100\n",
            "890/890 [==============================] - 3s 3ms/step - loss: 0.8875 - acc: 0.7360 - val_loss: 1.0949 - val_acc: 0.7534\n",
            "\n",
            "Epoch 00080: val_loss did not improve from 0.91479\n",
            "Epoch 81/100\n",
            "890/890 [==============================] - 3s 3ms/step - loss: 0.5817 - acc: 0.8292 - val_loss: 0.9941 - val_acc: 0.7489\n",
            "\n",
            "Epoch 00081: val_loss did not improve from 0.91479\n",
            "Epoch 82/100\n",
            "890/890 [==============================] - 3s 3ms/step - loss: 0.5079 - acc: 0.8326 - val_loss: 0.9724 - val_acc: 0.7534\n",
            "\n",
            "Epoch 00082: val_loss did not improve from 0.91479\n",
            "Epoch 83/100\n",
            "890/890 [==============================] - 3s 3ms/step - loss: 0.4769 - acc: 0.8438 - val_loss: 0.9964 - val_acc: 0.7623\n",
            "\n",
            "Epoch 00083: val_loss did not improve from 0.91479\n",
            "Epoch 84/100\n",
            "890/890 [==============================] - 3s 3ms/step - loss: 0.4398 - acc: 0.8618 - val_loss: 1.0507 - val_acc: 0.7444\n",
            "\n",
            "Epoch 00084: val_loss did not improve from 0.91479\n",
            "Epoch 85/100\n",
            "890/890 [==============================] - 3s 3ms/step - loss: 0.4250 - acc: 0.8607 - val_loss: 1.0697 - val_acc: 0.7668\n",
            "\n",
            "Epoch 00085: val_loss did not improve from 0.91479\n",
            "Epoch 86/100\n",
            "890/890 [==============================] - 3s 3ms/step - loss: 0.4392 - acc: 0.8528 - val_loss: 1.1438 - val_acc: 0.7444\n",
            "\n",
            "Epoch 00086: val_loss did not improve from 0.91479\n",
            "Epoch 87/100\n",
            "890/890 [==============================] - 3s 3ms/step - loss: 0.4184 - acc: 0.8607 - val_loss: 1.1231 - val_acc: 0.7534\n",
            "\n",
            "Epoch 00087: val_loss did not improve from 0.91479\n",
            "Epoch 88/100\n",
            "890/890 [==============================] - 3s 3ms/step - loss: 0.4265 - acc: 0.8562 - val_loss: 1.0778 - val_acc: 0.7623\n",
            "\n",
            "Epoch 00088: val_loss did not improve from 0.91479\n",
            "Epoch 89/100\n",
            "890/890 [==============================] - 3s 3ms/step - loss: 0.4153 - acc: 0.8584 - val_loss: 1.1399 - val_acc: 0.7444\n",
            "\n",
            "Epoch 00089: val_loss did not improve from 0.91479\n",
            "Epoch 90/100\n",
            "890/890 [==============================] - 3s 3ms/step - loss: 0.4261 - acc: 0.8629 - val_loss: 1.1956 - val_acc: 0.7489\n",
            "\n",
            "Epoch 00090: val_loss did not improve from 0.91479\n",
            "Epoch 91/100\n",
            "890/890 [==============================] - 3s 3ms/step - loss: 0.4298 - acc: 0.8562 - val_loss: 1.0380 - val_acc: 0.7803\n",
            "\n",
            "Epoch 00091: val_loss did not improve from 0.91479\n",
            "Epoch 92/100\n",
            "890/890 [==============================] - 3s 3ms/step - loss: 0.4271 - acc: 0.8607 - val_loss: 0.9756 - val_acc: 0.7668\n",
            "\n",
            "Epoch 00092: val_loss did not improve from 0.91479\n",
            "Epoch 93/100\n",
            "890/890 [==============================] - 3s 3ms/step - loss: 0.4444 - acc: 0.8584 - val_loss: 1.0121 - val_acc: 0.7578\n",
            "\n",
            "Epoch 00093: val_loss did not improve from 0.91479\n",
            "Epoch 94/100\n",
            "890/890 [==============================] - 3s 3ms/step - loss: 0.4531 - acc: 0.8539 - val_loss: 0.9166 - val_acc: 0.7534\n",
            "\n",
            "Epoch 00094: val_loss did not improve from 0.91479\n",
            "Epoch 95/100\n",
            "890/890 [==============================] - 3s 3ms/step - loss: 0.3930 - acc: 0.8697 - val_loss: 1.0623 - val_acc: 0.7668\n",
            "\n",
            "Epoch 00095: val_loss did not improve from 0.91479\n",
            "Epoch 96/100\n",
            "890/890 [==============================] - 3s 3ms/step - loss: 0.3686 - acc: 0.8719 - val_loss: 1.0402 - val_acc: 0.7713\n",
            "\n",
            "Epoch 00096: val_loss did not improve from 0.91479\n",
            "Epoch 97/100\n",
            "890/890 [==============================] - 3s 3ms/step - loss: 0.3849 - acc: 0.8798 - val_loss: 1.0331 - val_acc: 0.7803\n",
            "\n",
            "Epoch 00097: val_loss did not improve from 0.91479\n",
            "Epoch 98/100\n",
            "890/890 [==============================] - 3s 3ms/step - loss: 0.3713 - acc: 0.8831 - val_loss: 1.1451 - val_acc: 0.7623\n",
            "\n",
            "Epoch 00098: val_loss did not improve from 0.91479\n",
            "Epoch 99/100\n",
            "890/890 [==============================] - 3s 3ms/step - loss: 0.3664 - acc: 0.8876 - val_loss: 1.1134 - val_acc: 0.7489\n",
            "\n",
            "Epoch 00099: val_loss did not improve from 0.91479\n",
            "Epoch 100/100\n",
            "890/890 [==============================] - 3s 3ms/step - loss: 0.3759 - acc: 0.8888 - val_loss: 1.0433 - val_acc: 0.7668\n",
            "\n",
            "Epoch 00100: val_loss did not improve from 0.91479\n"
          ],
          "name": "stdout"
        }
      ]
    },
    {
      "metadata": {
        "id": "YjXKos8ocXvw",
        "colab_type": "code",
        "colab": {}
      },
      "cell_type": "code",
      "source": [
        " model = load_model(\"model.h5\")"
      ],
      "execution_count": 0,
      "outputs": []
    },
    {
      "metadata": {
        "id": "qSTEzrlzcuya",
        "colab_type": "code",
        "colab": {}
      },
      "cell_type": "code",
      "source": [
        "def predictions(text):\n",
        "  clean = re.sub(r'[^ a-z A-Z 0-9]', \" \", text)\n",
        "  test_word = word_tokenize(clean)\n",
        "  test_word = [w.lower() for w in test_word]\n",
        "  test_ls = word_tokenizer.texts_to_sequences(test_word)\n",
        "  print(test_word)\n",
        "  #Check for unknown words\n",
        "  if [] in test_ls:\n",
        "    test_ls = list(filter(None, test_ls))\n",
        "    \n",
        "  test_ls = np.array(test_ls).reshape(1, len(test_ls))\n",
        " \n",
        "  x = padding_doc(test_ls, max_length)\n",
        "  \n",
        "  pred = model.predict_proba(x)\n",
        "  \n",
        "  \n",
        "  return pred\n",
        "\n",
        "\n",
        "  "
      ],
      "execution_count": 0,
      "outputs": []
    },
    {
      "metadata": {
        "id": "P1ddofshmdzK",
        "colab_type": "code",
        "colab": {}
      },
      "cell_type": "code",
      "source": [
        "def get_final_output(pred, classes):\n",
        "  predictions = pred[0]\n",
        " \n",
        "  classes = np.array(classes)\n",
        "  ids = np.argsort(-predictions)\n",
        "  classes = classes[ids]\n",
        "  predictions = -np.sort(-predictions)\n",
        " \n",
        "  for i in range(pred.shape[1]):\n",
        "    print(\"%s has confidence = %s\" % (classes[i], (predictions[i])))\n",
        "\n"
      ],
      "execution_count": 0,
      "outputs": []
    },
    {
      "metadata": {
        "id": "23VpGuihMdEU",
        "colab_type": "code",
        "colab": {
          "base_uri": "https://localhost:8080/",
          "height": 404
        },
        "outputId": "1b3242b4-0a26-4cb3-b534-d536e7d0243a"
      },
      "cell_type": "code",
      "source": [
        "text = \"suck\"\n",
        "pred = predictions(text)\n",
        "get_final_output(pred, unique_intent)"
      ],
      "execution_count": 37,
      "outputs": [
        {
          "output_type": "stream",
          "text": [
            "['suck']\n",
            "faq.bad_service has confidence = 0.09750116\n",
            "commonQ.query has confidence = 0.095663205\n",
            "commonQ.how has confidence = 0.09041219\n",
            "faq.apply_register has confidence = 0.08783795\n",
            "commonQ.bot has confidence = 0.08211021\n",
            "faq.aadhaar_missing has confidence = 0.07156516\n",
            "commonQ.wait has confidence = 0.06425594\n",
            "commonQ.name has confidence = 0.058494292\n",
            "faq.biz_new has confidence = 0.0528298\n",
            "faq.borrow_limit has confidence = 0.05233835\n",
            "commonQ.not_giving has confidence = 0.04119842\n",
            "commonQ.assist has confidence = 0.036291532\n",
            "contact.contact has confidence = 0.028934397\n",
            "commonQ.just_details has confidence = 0.022363873\n",
            "faq.banking_option_missing has confidence = 0.021732463\n",
            "faq.biz_category_missing has confidence = 0.021567991\n",
            "faq.application_process has confidence = 0.01962978\n",
            "faq.approval_time has confidence = 0.018830411\n",
            "faq.biz_simpler has confidence = 0.015840832\n",
            "faq.address_proof has confidence = 0.010443282\n",
            "faq.borrow_use has confidence = 0.010158773\n"
          ],
          "name": "stdout"
        }
      ]
    },
    {
      "metadata": {
        "id": "bKUBDT36IHKO",
        "colab_type": "code",
        "colab": {}
      },
      "cell_type": "code",
      "source": [
        ""
      ],
      "execution_count": 0,
      "outputs": []
    }
  ]
}